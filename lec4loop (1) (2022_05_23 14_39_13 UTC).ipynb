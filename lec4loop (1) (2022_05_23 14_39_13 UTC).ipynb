{
 "cells": [
  {
   "cell_type": "markdown",
   "metadata": {},
   "source": [
    "# while loop"
   ]
  },
  {
   "cell_type": "code",
   "execution_count": 3,
   "metadata": {},
   "outputs": [
    {
     "name": "stdout",
     "output_type": "stream",
     "text": [
      "5\n",
      "16\n",
      "8.0\n",
      "4.0\n",
      "2.0\n"
     ]
    }
   ],
   "source": [
    "x = 5 \n",
    "while x != 1: \n",
    "    print(x)\n",
    "    if x % 2 == 0:\n",
    "        x = x / 2\n",
    "    else:\n",
    "        x = x * 3 + 1  "
   ]
  },
  {
   "cell_type": "markdown",
   "metadata": {},
   "source": [
    "## nested while"
   ]
  },
  {
   "cell_type": "code",
   "execution_count": 5,
   "metadata": {},
   "outputs": [
    {
     "name": "stdout",
     "output_type": "stream",
     "text": [
      "5\n",
      "x>3\n",
      "x>3\n",
      "2\n"
     ]
    }
   ],
   "source": [
    "x = 5 \n",
    "while x != 1: \n",
    "    print(x)\n",
    "    while x > 3:\n",
    "        print('x>3')\n",
    "        x = x - 1\n",
    "    x = x - 1"
   ]
  },
  {
   "cell_type": "markdown",
   "metadata": {},
   "source": [
    "## Break statement"
   ]
  },
  {
   "cell_type": "code",
   "execution_count": 6,
   "metadata": {},
   "outputs": [
    {
     "name": "stdout",
     "output_type": "stream",
     "text": [
      "5\n",
      "4\n",
      "3\n",
      "3\n"
     ]
    }
   ],
   "source": [
    "x = 5 \n",
    "while x > 0: \n",
    "    print(x)\n",
    "    if x == 3:\n",
    "        break\n",
    "    x = x - 1\n",
    "print(x) "
   ]
  },
  {
   "cell_type": "code",
   "execution_count": 8,
   "metadata": {},
   "outputs": [
    {
     "name": "stdout",
     "output_type": "stream",
     "text": [
      "5\n",
      "x>2\n",
      "x>2\n",
      "x>2\n",
      "2\n"
     ]
    }
   ],
   "source": [
    "x = 5 \n",
    "while x > 2:\n",
    "    print(x) \n",
    "    while True:        \n",
    "        print('x>2')\n",
    "        if x == 3:\n",
    "            break\n",
    "        x = x - 1\n",
    "    x = x - 1\n",
    "print(x) "
   ]
  },
  {
   "cell_type": "markdown",
   "metadata": {},
   "source": [
    "## continue statement"
   ]
  },
  {
   "cell_type": "code",
   "execution_count": 10,
   "metadata": {},
   "outputs": [
    {
     "name": "stdout",
     "output_type": "stream",
     "text": [
      "4\n",
      "2\n",
      "1\n",
      "0\n",
      "0\n"
     ]
    }
   ],
   "source": [
    "x = 5 \n",
    "while x > 0: \n",
    "    x = x - 1\n",
    "    if x == 3:\n",
    "        continue\n",
    "    print(x)\n",
    "print(x) "
   ]
  },
  {
   "cell_type": "code",
   "execution_count": 12,
   "metadata": {},
   "outputs": [
    {
     "name": "stdout",
     "output_type": "stream",
     "text": [
      "5\n",
      "x>=3\n",
      "x>=3\n",
      "-1\n"
     ]
    }
   ],
   "source": [
    "x = 5 \n",
    "while x > 2:\n",
    "    print(x) \n",
    "    while x > 0:        \n",
    "        x = x - 1\n",
    "        if x < 3:\n",
    "            continue\n",
    "            print('x<3')\n",
    "        else:\n",
    "            print('x>=3')\n",
    "    x = x - 1\n",
    "print(x) "
   ]
  },
  {
   "cell_type": "markdown",
   "metadata": {},
   "source": [
    "# for statement"
   ]
  },
  {
   "cell_type": "code",
   "execution_count": 13,
   "metadata": {},
   "outputs": [
    {
     "name": "stdout",
     "output_type": "stream",
     "text": [
      "5\n",
      "4\n",
      "3\n",
      "2\n",
      "1\n",
      "Blastoff\n"
     ]
    }
   ],
   "source": [
    "for i in [5, 4, 3, 2, 1]: \n",
    "    print(i)\n",
    "print('Blastoff')"
   ]
  },
  {
   "cell_type": "code",
   "execution_count": 15,
   "metadata": {},
   "outputs": [
    {
     "name": "stdout",
     "output_type": "stream",
     "text": [
      "5 :odd\n",
      "4 :even\n",
      "3 :odd\n",
      "2 :even\n",
      "1 :odd\n",
      "Blastoff\n"
     ]
    }
   ],
   "source": [
    "for i in [5, 4, 3, 2, 1]: \n",
    "    if i % 2 == 0:\n",
    "        print(i, \":even\")\n",
    "    else:\n",
    "        print(i, \":odd\")\n",
    "print('Blastoff')"
   ]
  },
  {
   "cell_type": "markdown",
   "metadata": {},
   "source": [
    "## nested for statement"
   ]
  },
  {
   "cell_type": "code",
   "execution_count": 16,
   "metadata": {},
   "outputs": [
    {
     "name": "stdout",
     "output_type": "stream",
     "text": [
      "1\n",
      "2\n",
      "3\n",
      "2\n",
      "4\n",
      "6\n",
      "3\n",
      "6\n",
      "9\n",
      "Blastoff\n"
     ]
    }
   ],
   "source": [
    "for i in [1, 2, 3]: \n",
    "    for j in [1, 2, 3]:\n",
    "        print (i * j)\n",
    "print ('Blastoff')"
   ]
  },
  {
   "cell_type": "code",
   "execution_count": 17,
   "metadata": {},
   "outputs": [
    {
     "name": "stdout",
     "output_type": "stream",
     "text": [
      "1\n",
      "2\n",
      "2\n",
      "3\n",
      "3\n",
      "3\n",
      "Blastoff\n"
     ]
    }
   ],
   "source": [
    "for i in [1, 2, 3]:\n",
    "    j = 1 \n",
    "    while j <= i:\n",
    "        print (i)\n",
    "        j = j + 1\n",
    "print ('Blastoff')"
   ]
  },
  {
   "cell_type": "code",
   "execution_count": 2,
   "metadata": {},
   "outputs": [
    {
     "name": "stdout",
     "output_type": "stream",
     "text": [
      " 1\t\n",
      " 2\t4\t\n",
      " 3\t6\t9\t\n",
      " 4\t8\t12\t16\t\n",
      " 5\t10\t15\t20\t25\t\n"
     ]
    }
   ],
   "source": [
    "i = 1 \n",
    "height = 5\n",
    "while i <= height:\n",
    "    j = 1\n",
    "    line = ' '\n",
    "    while j <= i:\n",
    "        line += str(i*j) + '\\t'\n",
    "        j = j + 1\n",
    "    print(line)\n",
    "    i = i + 1"
   ]
  },
  {
   "cell_type": "code",
   "execution_count": 4,
   "metadata": {},
   "outputs": [
    {
     "name": "stdout",
     "output_type": "stream",
     "text": [
      "Before 0 0\n",
      "1 9 9\n",
      "2 50 41\n",
      "3 62 12\n",
      "4 65 3\n",
      "5 139 74\n",
      "6 154 15\n",
      "After 6 154 25.666666666666668\n"
     ]
    }
   ],
   "source": [
    "count = 0  \n",
    "sum = 0\n",
    "print('Before', count, sum)\n",
    "for value in [9, 41, 12, 3, 74, 15]:\n",
    "    count = count + 1\n",
    "    sum = sum + value \n",
    "    print (count, sum, value)\n",
    "print('After', count, sum, sum/count)\n"
   ]
  }
 ],
 "metadata": {
  "kernelspec": {
   "display_name": "Python 3",
   "language": "python",
   "name": "python3"
  },
  "language_info": {
   "codemirror_mode": {
    "name": "ipython",
    "version": 3
   },
   "file_extension": ".py",
   "mimetype": "text/x-python",
   "name": "python",
   "nbconvert_exporter": "python",
   "pygments_lexer": "ipython3",
   "version": "3.7.4"
  }
 },
 "nbformat": 4,
 "nbformat_minor": 2
}
