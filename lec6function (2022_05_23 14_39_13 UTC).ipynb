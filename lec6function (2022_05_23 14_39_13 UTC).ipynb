{
 "cells": [
  {
   "cell_type": "markdown",
   "metadata": {},
   "source": [
    "# continue last lecture"
   ]
  },
  {
   "cell_type": "markdown",
   "metadata": {},
   "source": [
    "duplicate elements"
   ]
  },
  {
   "cell_type": "code",
   "execution_count": 2,
   "metadata": {},
   "outputs": [
    {
     "name": "stdout",
     "output_type": "stream",
     "text": [
      "['a', 'b', 'c', 1, 'a', 'b', 'c', 2]\n"
     ]
    }
   ],
   "source": [
    "# list\n",
    "dup_list = ['a','b','c',1,'a','b','c',2]\n",
    "print(dup_list)"
   ]
  },
  {
   "cell_type": "code",
   "execution_count": 3,
   "metadata": {},
   "outputs": [
    {
     "name": "stdout",
     "output_type": "stream",
     "text": [
      "['a', 'b', 'c', 1, 'a', 'b', 'c', 2]\n"
     ]
    }
   ],
   "source": [
    "# tuple\n",
    "dup_tuple = ['a','b','c',1,'a','b','c',2]\n",
    "print(dup_tuple)"
   ]
  },
  {
   "cell_type": "code",
   "execution_count": 4,
   "metadata": {},
   "outputs": [
    {
     "name": "stdout",
     "output_type": "stream",
     "text": [
      "{'a': 4, 'b': 2, 'c': 3}\n"
     ]
    }
   ],
   "source": [
    "# dictionary - duplicate key\n",
    "dup_dict = {'a':1,'b':2,'c':3,'a':4}\n",
    "print(dup_dict)"
   ]
  },
  {
   "cell_type": "code",
   "execution_count": 5,
   "metadata": {},
   "outputs": [
    {
     "name": "stdout",
     "output_type": "stream",
     "text": [
      "{'a': 1, 'b': 2, 'c': 1}\n"
     ]
    }
   ],
   "source": [
    "# dictionary - duplicate value\n",
    "dup_dict = {'a':1,'b':2,'c':1}\n",
    "print(dup_dict)"
   ]
  },
  {
   "cell_type": "code",
   "execution_count": 7,
   "metadata": {},
   "outputs": [
    {
     "name": "stdout",
     "output_type": "stream",
     "text": [
      "{'a': [1, 2], 'b': [3, 4]}\n"
     ]
    }
   ],
   "source": [
    "# list as values\n",
    "a_dictionary = {\"a\": [1, 2], \"b\": [3, 4]}\n",
    "print(a_dictionary)"
   ]
  },
  {
   "cell_type": "code",
   "execution_count": 8,
   "metadata": {},
   "outputs": [
    {
     "name": "stdout",
     "output_type": "stream",
     "text": [
      "{'a': (1, 2), 'b': (3, 4)}\n"
     ]
    }
   ],
   "source": [
    "# tuple as values\n",
    "a_dictionary = {\"a\": (1, 2), \"b\": (3, 4)}\n",
    "print(a_dictionary)"
   ]
  },
  {
   "cell_type": "code",
   "execution_count": 9,
   "metadata": {},
   "outputs": [
    {
     "name": "stdout",
     "output_type": "stream",
     "text": [
      "{'a': {'a': 1, 'b': 2}, 'b': {'a': 1, 'b': 2}}\n"
     ]
    }
   ],
   "source": [
    "# dictionary as values\n",
    "a_dictionary = {\"a\": {\"a\":1, \"b\":2}, \"b\": {\"a\":1, \"b\":2}}\n",
    "print(a_dictionary)"
   ]
  },
  {
   "cell_type": "code",
   "execution_count": 11,
   "metadata": {},
   "outputs": [],
   "source": [
    "sampleDict = { \n",
    "   \"class\":{ \n",
    "      \"student\":{ \n",
    "         \"name\":\"Mike\",\n",
    "         \"marks\":{ \n",
    "            \"physics\":70,\n",
    "            \"history\":80\n",
    "         }\n",
    "      }\n",
    "   }\n",
    "}"
   ]
  },
  {
   "cell_type": "code",
   "execution_count": 12,
   "metadata": {},
   "outputs": [
    {
     "data": {
      "text/plain": [
       "80"
      ]
     },
     "execution_count": 12,
     "metadata": {},
     "output_type": "execute_result"
    }
   ],
   "source": [
    "sampleDict[\"class\"][\"student\"][\"marks\"][\"history\"]"
   ]
  },
  {
   "cell_type": "markdown",
   "metadata": {},
   "source": [
    "# Functions"
   ]
  },
  {
   "cell_type": "markdown",
   "metadata": {},
   "source": [
    "Do the following operations for two numbers and print results: +, -, *, /"
   ]
  },
  {
   "cell_type": "code",
   "execution_count": 4,
   "metadata": {},
   "outputs": [],
   "source": [
    "def calc(a, b):\n",
    "    sumup = a + b \n",
    "    subtraction = a - b \n",
    "    multiply = a * b \n",
    "    division = a / b\n",
    "    print(\"sum is:\",sumup)\n",
    "    print(\"subtraction is:\",subtraction)\n",
    "    print(\"multiplication is:\",multiply)\n",
    "    print(\"division is:\",division)"
   ]
  },
  {
   "cell_type": "code",
   "execution_count": 5,
   "metadata": {},
   "outputs": [
    {
     "name": "stdout",
     "output_type": "stream",
     "text": [
      "sum is: 12\n",
      "subtraction is: -2\n",
      "multiplication is: 35\n",
      "division is: 0.7142857142857143\n"
     ]
    }
   ],
   "source": [
    "calc(5, 7)"
   ]
  },
  {
   "cell_type": "code",
   "execution_count": 6,
   "metadata": {},
   "outputs": [
    {
     "name": "stdout",
     "output_type": "stream",
     "text": [
      "sum is: 7.0\n",
      "subtraction is: -1.0\n",
      "multiplication is: 12.0\n",
      "division is: 0.75\n"
     ]
    }
   ],
   "source": [
    "calc(3.0, 4)"
   ]
  },
  {
   "cell_type": "code",
   "execution_count": 7,
   "metadata": {},
   "outputs": [
    {
     "name": "stdout",
     "output_type": "stream",
     "text": [
      "sum is: 3.7\n",
      "subtraction is: -1.3\n",
      "multiplication is: 3.0\n",
      "division is: 0.48\n"
     ]
    }
   ],
   "source": [
    "calc(1.2, 2.5)"
   ]
  },
  {
   "cell_type": "markdown",
   "metadata": {},
   "source": [
    "Math functions"
   ]
  },
  {
   "cell_type": "code",
   "execution_count": 8,
   "metadata": {},
   "outputs": [
    {
     "name": "stdout",
     "output_type": "stream",
     "text": [
      "1.2304489213782739\n"
     ]
    }
   ],
   "source": [
    "import math \n",
    "decibel = math.log10(17.0)\n",
    "print(decibel)"
   ]
  },
  {
   "cell_type": "code",
   "execution_count": 9,
   "metadata": {},
   "outputs": [
    {
     "name": "stdout",
     "output_type": "stream",
     "text": [
      "0.9974949866040544\n"
     ]
    }
   ],
   "source": [
    "angle = 1.5\n",
    "height = math.sin(angle)\n",
    "print(height)"
   ]
  },
  {
   "cell_type": "code",
   "execution_count": 10,
   "metadata": {},
   "outputs": [
    {
     "data": {
      "text/plain": [
       "0.7071067811865476"
      ]
     },
     "execution_count": 10,
     "metadata": {},
     "output_type": "execute_result"
    }
   ],
   "source": [
    "degrees = 45\n",
    "angle = degrees* 2 * math.pi / 360\n",
    "math.sin(angle)"
   ]
  },
  {
   "cell_type": "markdown",
   "metadata": {},
   "source": [
    "combination of math functions"
   ]
  },
  {
   "cell_type": "code",
   "execution_count": 12,
   "metadata": {},
   "outputs": [
    {
     "name": "stdout",
     "output_type": "stream",
     "text": [
      "10.000000000000002\n"
     ]
    }
   ],
   "source": [
    "# combination of math functions\n",
    "x = math.exp(math.log(10))\n",
    "print(x)"
   ]
  },
  {
   "cell_type": "markdown",
   "metadata": {},
   "source": [
    "Defining a function doesn’t mean we execute the body of the function"
   ]
  },
  {
   "cell_type": "code",
   "execution_count": 13,
   "metadata": {},
   "outputs": [
    {
     "name": "stdout",
     "output_type": "stream",
     "text": [
      "Hello\n",
      "Yo\n",
      "7\n"
     ]
    }
   ],
   "source": [
    "x = 5\n",
    "print('Hello')\n",
    "\n",
    "def print_oks():\n",
    "    x = 1\n",
    "    print('OK1')\n",
    "    print('OZ2')\n",
    "    \n",
    "print('Yo')\n",
    "x = x + 2 \n",
    "print (x)"
   ]
  },
  {
   "cell_type": "markdown",
   "metadata": {},
   "source": [
    "call the function"
   ]
  },
  {
   "cell_type": "code",
   "execution_count": 15,
   "metadata": {},
   "outputs": [
    {
     "name": "stdout",
     "output_type": "stream",
     "text": [
      "Hello\n",
      "Yo\n",
      "OK1\n",
      "OZ2\n",
      "7\n"
     ]
    }
   ],
   "source": [
    "x = 5\n",
    "print('Hello')\n",
    "\n",
    "def print_oks():\n",
    "    print('OK1')\n",
    "    print('OZ2')\n",
    "    \n",
    "print('Yo')\n",
    "print_oks()\n",
    "x = x + 2 \n",
    "print (x)"
   ]
  },
  {
   "cell_type": "markdown",
   "metadata": {},
   "source": [
    "Arguments"
   ]
  },
  {
   "cell_type": "code",
   "execution_count": 16,
   "metadata": {},
   "outputs": [
    {
     "name": "stdout",
     "output_type": "stream",
     "text": [
      "sum is: 8\n",
      "subtraction is: -2\n",
      "multiplication is: 15\n",
      "division is: 0.6\n",
      "sum is: 9.0\n",
      "subtraction is: -5.0\n",
      "multiplication is: 14.0\n",
      "division is: 0.2857142857142857\n",
      "sum is: 4.7\n",
      "subtraction is: 0.2999999999999998\n",
      "multiplication is: 5.5\n",
      "division is: 1.1363636363636362\n"
     ]
    }
   ],
   "source": [
    "x, y = 3, 5\n",
    "m, n = 2.0, 7\n",
    "i, j = 2.5, 2.2\n",
    "\n",
    "# call the function\n",
    "calc(x, y)\n",
    "calc(m, n)\n",
    "calc(i, j)"
   ]
  },
  {
   "cell_type": "markdown",
   "metadata": {},
   "source": [
    "Required arguments"
   ]
  },
  {
   "cell_type": "code",
   "execution_count": 1,
   "metadata": {},
   "outputs": [],
   "source": [
    "def printme( str ): \n",
    "    print(str)"
   ]
  },
  {
   "cell_type": "code",
   "execution_count": 2,
   "metadata": {},
   "outputs": [
    {
     "name": "stdout",
     "output_type": "stream",
     "text": [
      "IDS400\n"
     ]
    }
   ],
   "source": [
    "# call the function\n",
    "printme(\"IDS400\")"
   ]
  },
  {
   "cell_type": "code",
   "execution_count": 3,
   "metadata": {},
   "outputs": [
    {
     "ename": "TypeError",
     "evalue": "printme() missing 1 required positional argument: 'str'",
     "output_type": "error",
     "traceback": [
      "\u001b[1;31m---------------------------------------------------------------------------\u001b[0m",
      "\u001b[1;31mTypeError\u001b[0m                                 Traceback (most recent call last)",
      "\u001b[1;32m<ipython-input-3-89e5eb2c5b5b>\u001b[0m in \u001b[0;36m<module>\u001b[1;34m\u001b[0m\n\u001b[0;32m      1\u001b[0m \u001b[1;31m# missing the required arguments will get an error\u001b[0m\u001b[1;33m\u001b[0m\u001b[1;33m\u001b[0m\u001b[1;33m\u001b[0m\u001b[0m\n\u001b[1;32m----> 2\u001b[1;33m \u001b[0mprintme\u001b[0m\u001b[1;33m(\u001b[0m\u001b[1;33m)\u001b[0m\u001b[1;33m\u001b[0m\u001b[1;33m\u001b[0m\u001b[0m\n\u001b[0m",
      "\u001b[1;31mTypeError\u001b[0m: printme() missing 1 required positional argument: 'str'"
     ]
    }
   ],
   "source": [
    "# missing the required arguments will get an error\n",
    "printme()"
   ]
  },
  {
   "cell_type": "markdown",
   "metadata": {},
   "source": [
    "Keyword arguments"
   ]
  },
  {
   "cell_type": "code",
   "execution_count": 4,
   "metadata": {},
   "outputs": [
    {
     "name": "stdout",
     "output_type": "stream",
     "text": [
      "Name:  miki\n",
      "Age:  50\n"
     ]
    }
   ],
   "source": [
    "def printinfo (name, age):\n",
    "    print(\"Name: \", name)\n",
    "    print(\"Age: \", age)\n",
    "\n",
    "printinfo (age = 50, name = \"miki\")"
   ]
  },
  {
   "cell_type": "code",
   "execution_count": 5,
   "metadata": {},
   "outputs": [
    {
     "name": "stdout",
     "output_type": "stream",
     "text": [
      "Name:  miki\n",
      "Age:  50\n"
     ]
    }
   ],
   "source": [
    "# Required arguments\n",
    "printinfo (\"miki\", 50)"
   ]
  },
  {
   "cell_type": "code",
   "execution_count": 6,
   "metadata": {},
   "outputs": [
    {
     "name": "stdout",
     "output_type": "stream",
     "text": [
      "Name:  50\n",
      "Age:  miki\n"
     ]
    }
   ],
   "source": [
    "printinfo (50, \"miki\")"
   ]
  },
  {
   "cell_type": "markdown",
   "metadata": {},
   "source": [
    "Default arguments"
   ]
  },
  {
   "cell_type": "code",
   "execution_count": 7,
   "metadata": {},
   "outputs": [
    {
     "name": "stdout",
     "output_type": "stream",
     "text": [
      "Name:  miki\n",
      "Age:  35\n"
     ]
    }
   ],
   "source": [
    "def printinfo(name,age=35):\n",
    "    print(\"Name: \",name)\n",
    "    print(\"Age: \",age)\n",
    "    \n",
    "printinfo(name='miki')"
   ]
  },
  {
   "cell_type": "markdown",
   "metadata": {},
   "source": [
    "variable-length arguments"
   ]
  },
  {
   "cell_type": "code",
   "execution_count": 8,
   "metadata": {},
   "outputs": [
    {
     "name": "stdout",
     "output_type": "stream",
     "text": [
      "()\n"
     ]
    }
   ],
   "source": [
    "def varpafu(*x): \n",
    "    print(x)\n",
    "\n",
    "varpafu()"
   ]
  },
  {
   "cell_type": "code",
   "execution_count": 9,
   "metadata": {},
   "outputs": [
    {
     "name": "stdout",
     "output_type": "stream",
     "text": [
      "(34, 'Do you like Python?', 'Of course')\n"
     ]
    }
   ],
   "source": [
    "varpafu(34,\"Do you like Python?\", \"Of course\")"
   ]
  },
  {
   "cell_type": "code",
   "execution_count": 10,
   "metadata": {},
   "outputs": [
    {
     "name": "stdout",
     "output_type": "stream",
     "text": [
      "Paris ()\n",
      "Paris ('Strasbourg', 'Lyon', 'Dijon', 'Bordeaux', 'Marseille')\n"
     ]
    }
   ],
   "source": [
    "def locations(city, *other_cities): \n",
    "    print(city, other_cities)\n",
    "\n",
    "locations(\"Paris\")\n",
    "locations(\"Paris\", \"Strasbourg\", \"Lyon\", \"Dijon\", \"Bordeaux\", \"Marseille\")"
   ]
  },
  {
   "cell_type": "markdown",
   "metadata": {},
   "source": [
    "Anonymous function"
   ]
  },
  {
   "cell_type": "code",
   "execution_count": 17,
   "metadata": {},
   "outputs": [
    {
     "name": "stdout",
     "output_type": "stream",
     "text": [
      "sum is:  8\n"
     ]
    }
   ],
   "source": [
    "func1 = lambda a, b: a+b\n",
    "sum1 = func1(5,3)\n",
    "print(\"sum is: \", sum1)"
   ]
  },
  {
   "cell_type": "code",
   "execution_count": 19,
   "metadata": {},
   "outputs": [
    {
     "ename": "NameError",
     "evalue": "name 'a' is not defined",
     "output_type": "error",
     "traceback": [
      "\u001b[1;31m---------------------------------------------------------------------------\u001b[0m",
      "\u001b[1;31mNameError\u001b[0m                                 Traceback (most recent call last)",
      "\u001b[1;32m<ipython-input-19-770d1ae17c7e>\u001b[0m in \u001b[0;36m<module>\u001b[1;34m\u001b[0m\n\u001b[0;32m      1\u001b[0m \u001b[1;31m# error, can not contain commands or multiple expressions.\u001b[0m\u001b[1;33m\u001b[0m\u001b[1;33m\u001b[0m\u001b[1;33m\u001b[0m\u001b[0m\n\u001b[1;32m----> 2\u001b[1;33m \u001b[0mfunc2\u001b[0m \u001b[1;33m=\u001b[0m \u001b[1;32mlambda\u001b[0m \u001b[0ma\u001b[0m\u001b[1;33m,\u001b[0m \u001b[0mb\u001b[0m\u001b[1;33m:\u001b[0m \u001b[0ma\u001b[0m\u001b[1;33m+\u001b[0m\u001b[0mb\u001b[0m\u001b[1;33m;\u001b[0m \u001b[0ma\u001b[0m\u001b[1;33m-\u001b[0m\u001b[0mb\u001b[0m\u001b[1;33m\u001b[0m\u001b[1;33m\u001b[0m\u001b[0m\n\u001b[0m\u001b[0;32m      3\u001b[0m \u001b[0msum2\u001b[0m \u001b[1;33m=\u001b[0m \u001b[0mfunc2\u001b[0m\u001b[1;33m(\u001b[0m\u001b[1;36m5\u001b[0m\u001b[1;33m,\u001b[0m\u001b[1;36m4\u001b[0m\u001b[1;33m)\u001b[0m\u001b[1;33m\u001b[0m\u001b[1;33m\u001b[0m\u001b[0m\n\u001b[0;32m      4\u001b[0m \u001b[0mprint\u001b[0m\u001b[1;33m(\u001b[0m\u001b[1;34m\"sum is: \"\u001b[0m\u001b[1;33m,\u001b[0m \u001b[0msum2\u001b[0m\u001b[1;33m)\u001b[0m\u001b[1;33m\u001b[0m\u001b[1;33m\u001b[0m\u001b[0m\n",
      "\u001b[1;31mNameError\u001b[0m: name 'a' is not defined"
     ]
    }
   ],
   "source": [
    "# error, can not contain commands or multiple expressions.\n",
    "func2 = lambda a, b: a+b; a-b\n",
    "sum2 = func2(5,4)\n",
    "print(\"sum is: \", sum2)"
   ]
  },
  {
   "cell_type": "code",
   "execution_count": 20,
   "metadata": {},
   "outputs": [
    {
     "data": {
      "text/plain": [
       "<function __main__.<lambda>()>"
      ]
     },
     "execution_count": 20,
     "metadata": {},
     "output_type": "execute_result"
    }
   ],
   "source": [
    "func3 = lambda : print(\"hello world\")\n",
    "func3"
   ]
  },
  {
   "cell_type": "markdown",
   "metadata": {},
   "source": [
    "examples"
   ]
  },
  {
   "cell_type": "code",
   "execution_count": 2,
   "metadata": {},
   "outputs": [
    {
     "name": "stdout",
     "output_type": "stream",
     "text": [
      "['aaa', 'b', 'cccc', 'dd']\n",
      "['cccc', 'b', 'dd', 'aaa']\n"
     ]
    }
   ],
   "source": [
    "L=[\"cccc\",\"b\",\"dd\",\"aaa\"]\n",
    "print(sorted(L))\n",
    "print(L)"
   ]
  },
  {
   "cell_type": "code",
   "execution_count": 21,
   "metadata": {},
   "outputs": [
    {
     "name": "stdout",
     "output_type": "stream",
     "text": [
      "Normal sort:  ['aaa', 'b', 'cccc', 'dd']\n",
      "Sort with len:  ['b', 'dd', 'aaa', 'cccc']\n"
     ]
    }
   ],
   "source": [
    "# sorted function\n",
    "L=[\"cccc\",\"b\",\"dd\",\"aaa\"]\n",
    "print(\"Normal sort: \",sorted(L))\n",
    "print(\"Sort with len: \", sorted(L,key=len))"
   ]
  },
  {
   "cell_type": "code",
   "execution_count": 3,
   "metadata": {},
   "outputs": [
    {
     "name": "stdout",
     "output_type": "stream",
     "text": [
      "[('a', 2), ('b', 0), ('c', 4), ('d', 1), ('e', 3)]\n"
     ]
    }
   ],
   "source": [
    "x = {'a':2, 'c':4, 'e':3, 'd':1, 'b':0}\n",
    "sorted_by_key = sorted(x.items(), key = lambda kv: kv[0])\n",
    "print(sorted_by_key)"
   ]
  },
  {
   "cell_type": "code",
   "execution_count": 5,
   "metadata": {},
   "outputs": [
    {
     "name": "stdout",
     "output_type": "stream",
     "text": [
      "[('b', 0), ('d', 1), ('a', 2), ('e', 3), ('c', 4)]\n"
     ]
    }
   ],
   "source": [
    "x = {'a':2, 'c':4, 'e':3, 'd':1, 'b':0}\n",
    "sorted_by_value = sorted(x.items(), key = lambda kv: kv[1])\n",
    "print(sorted_by_value)"
   ]
  },
  {
   "cell_type": "code",
   "execution_count": 25,
   "metadata": {},
   "outputs": [
    {
     "data": {
      "text/plain": [
       "[('dave', 'B', 10), ('jane', 'B', 12), ('john', 'A', 15)]"
      ]
     },
     "execution_count": 25,
     "metadata": {},
     "output_type": "execute_result"
    }
   ],
   "source": [
    "student_tuples = [\n",
    "        ('john', 'A', 15),\n",
    "        ('jane', 'B', 12),\n",
    "        ('dave', 'B', 10),\n",
    "]\n",
    "\n",
    "# sort by age\n",
    "sorted(student_tuples, key=lambda student: student[2])   "
   ]
  },
  {
   "cell_type": "markdown",
   "metadata": {},
   "source": [
    "Return statement"
   ]
  },
  {
   "cell_type": "code",
   "execution_count": 26,
   "metadata": {},
   "outputs": [
    {
     "name": "stdout",
     "output_type": "stream",
     "text": [
      "Hello Glenn\n",
      "Hello Sally\n"
     ]
    }
   ],
   "source": [
    "def greet():\n",
    "    return \"Hello\"\n",
    "\n",
    "print(greet(), \"Glenn\")\n",
    "print(greet(), \"Sally\")"
   ]
  },
  {
   "cell_type": "code",
   "execution_count": 1,
   "metadata": {},
   "outputs": [],
   "source": [
    "def greet(lang):\n",
    "    if lang == 'es': \n",
    "        return 'Hola'\n",
    "    elif lang == 'fr':\n",
    "        return 'Bonjour'\n",
    "    else:\n",
    "        return 'Hello'\n",
    "    print('Done')"
   ]
  },
  {
   "cell_type": "code",
   "execution_count": 2,
   "metadata": {},
   "outputs": [
    {
     "name": "stdout",
     "output_type": "stream",
     "text": [
      "Hello Glenn\n",
      "Hola Sally\n",
      "Bonjour Michael\n"
     ]
    }
   ],
   "source": [
    "print(greet('en'),'Glenn')\n",
    "print(greet('es'),'Sally')\n",
    "print(greet('fr'),'Michael')"
   ]
  },
  {
   "cell_type": "code",
   "execution_count": 6,
   "metadata": {},
   "outputs": [],
   "source": [
    "def greet(lang):\n",
    "    return 'Done'\n",
    "    if lang == 'es': \n",
    "        return 'Hola'\n",
    "    else:\n",
    "        return 'Hello'"
   ]
  },
  {
   "cell_type": "code",
   "execution_count": 8,
   "metadata": {},
   "outputs": [
    {
     "name": "stdout",
     "output_type": "stream",
     "text": [
      "Done Glenn\n",
      "Done Sally\n",
      "Done Michael\n"
     ]
    }
   ],
   "source": [
    "print(greet('en'),'Glenn')\n",
    "print(greet('es'),'Sally')\n",
    "print(greet('fr'),'Michael')"
   ]
  },
  {
   "cell_type": "code",
   "execution_count": 5,
   "metadata": {},
   "outputs": [],
   "source": [
    "# Return multiple values from a method using tuple\n",
    "\n",
    "def fun():\n",
    "    s = \"IDS400\"\n",
    "    x   = 20\n",
    "    return s, x  # Return tuple in a format (s, x)"
   ]
  },
  {
   "cell_type": "code",
   "execution_count": 6,
   "metadata": {},
   "outputs": [
    {
     "name": "stdout",
     "output_type": "stream",
     "text": [
      "IDS400\n",
      "20\n"
     ]
    }
   ],
   "source": [
    "result_s, result_x = fun() # Assign returned tuple\n",
    "print(result_s)\n",
    "print(result_x)"
   ]
  },
  {
   "cell_type": "code",
   "execution_count": 3,
   "metadata": {},
   "outputs": [
    {
     "name": "stdout",
     "output_type": "stream",
     "text": [
      "Inside the function:  30\n",
      "Outside the function:  30\n"
     ]
    }
   ],
   "source": [
    "# function definition is here\n",
    "def sum(arg1, arg2):\n",
    "    #add both parameters and return them\n",
    "    total_inside = arg1 + arg2\n",
    "    print(\"Inside the function: \",total_inside)\n",
    "    return total_inside\n",
    "\n",
    "#now you can call sum function\n",
    "total_outside = sum(10,20)\n",
    "print(\"Outside the function: \",total_outside)"
   ]
  },
  {
   "cell_type": "code",
   "execution_count": 4,
   "metadata": {},
   "outputs": [
    {
     "ename": "NameError",
     "evalue": "name 'total_inside' is not defined",
     "output_type": "error",
     "traceback": [
      "\u001b[1;31m---------------------------------------------------------------------------\u001b[0m",
      "\u001b[1;31mNameError\u001b[0m                                 Traceback (most recent call last)",
      "\u001b[1;32m<ipython-input-4-394bff11dff1>\u001b[0m in \u001b[0;36m<module>\u001b[1;34m\u001b[0m\n\u001b[1;32m----> 1\u001b[1;33m \u001b[0mprint\u001b[0m\u001b[1;33m(\u001b[0m\u001b[0mtotal_inside\u001b[0m\u001b[1;33m)\u001b[0m\u001b[1;33m\u001b[0m\u001b[1;33m\u001b[0m\u001b[0m\n\u001b[0m",
      "\u001b[1;31mNameError\u001b[0m: name 'total_inside' is not defined"
     ]
    }
   ],
   "source": [
    "print(total_inside)"
   ]
  },
  {
   "cell_type": "markdown",
   "metadata": {},
   "source": [
    "arguments, parameters and results"
   ]
  },
  {
   "cell_type": "code",
   "execution_count": 7,
   "metadata": {},
   "outputs": [],
   "source": [
    "def my_f(inp):\n",
    "    print(\"Inside print: \", inp)\n",
    "    return 'IDS'"
   ]
  },
  {
   "cell_type": "code",
   "execution_count": 8,
   "metadata": {},
   "outputs": [
    {
     "name": "stdout",
     "output_type": "stream",
     "text": [
      "Inside print:  Python\n",
      "result of the funtion:  IDS\n"
     ]
    }
   ],
   "source": [
    "big = my_f('Python')\n",
    "print(\"result of the funtion: \", big)"
   ]
  },
  {
   "cell_type": "markdown",
   "metadata": {},
   "source": [
    "Multiple arguments/parameters"
   ]
  },
  {
   "cell_type": "code",
   "execution_count": 38,
   "metadata": {},
   "outputs": [
    {
     "name": "stdout",
     "output_type": "stream",
     "text": [
      "8\n"
     ]
    }
   ],
   "source": [
    "def addtwo(a,b):\n",
    "    added = a + b\n",
    "    return added\n",
    "\n",
    "x = addtwo(3, 5)\n",
    "print(x)"
   ]
  },
  {
   "cell_type": "markdown",
   "metadata": {},
   "source": [
    "Program development: incremental development"
   ]
  },
  {
   "cell_type": "code",
   "execution_count": 39,
   "metadata": {},
   "outputs": [],
   "source": [
    "def distance(x1, y1, x2, y2):\n",
    "    return 0.0"
   ]
  },
  {
   "cell_type": "code",
   "execution_count": 40,
   "metadata": {},
   "outputs": [
    {
     "data": {
      "text/plain": [
       "0.0"
      ]
     },
     "execution_count": 40,
     "metadata": {},
     "output_type": "execute_result"
    }
   ],
   "source": [
    "distance(1,2,4,6)"
   ]
  },
  {
   "cell_type": "code",
   "execution_count": 43,
   "metadata": {},
   "outputs": [],
   "source": [
    "#Find the differences x1-x2 and y1-y2.\n",
    "def distance(x1,y1,x2, y2):\n",
    "    dx = x1-x2\n",
    "    dy = y1-y2\n",
    "    print(\"dx is: \",dx)\n",
    "    print(\"dy is: \",dy)\n",
    "    return 0.0"
   ]
  },
  {
   "cell_type": "code",
   "execution_count": 42,
   "metadata": {},
   "outputs": [
    {
     "name": "stdout",
     "output_type": "stream",
     "text": [
      "dx is:  3\n",
      "dy is:  4\n"
     ]
    },
    {
     "data": {
      "text/plain": [
       "0.0"
      ]
     },
     "execution_count": 42,
     "metadata": {},
     "output_type": "execute_result"
    }
   ],
   "source": [
    "# sample values\n",
    "distance(1,2,4,6)"
   ]
  },
  {
   "cell_type": "code",
   "execution_count": 44,
   "metadata": {},
   "outputs": [],
   "source": [
    "import math\n",
    "# Compute the sum of squares of dx and dy.\n",
    "def distance(x1,y1,x2, y2):\n",
    "    dx = x1-x2\n",
    "    dy = y1-y2\n",
    "    dsquared = dx**2 + dy**2\n",
    "    result = math.sqrt(dsquared)\n",
    "    return result"
   ]
  },
  {
   "cell_type": "code",
   "execution_count": 45,
   "metadata": {},
   "outputs": [
    {
     "data": {
      "text/plain": [
       "5.0"
      ]
     },
     "execution_count": 45,
     "metadata": {},
     "output_type": "execute_result"
    }
   ],
   "source": [
    "# sample values\n",
    "distance(1,2,4,6)"
   ]
  },
  {
   "cell_type": "markdown",
   "metadata": {},
   "source": [
    "Recursion"
   ]
  },
  {
   "cell_type": "code",
   "execution_count": 46,
   "metadata": {},
   "outputs": [
    {
     "data": {
      "text/plain": [
       "5.0"
      ]
     },
     "execution_count": 46,
     "metadata": {},
     "output_type": "execute_result"
    }
   ],
   "source": [
    "def subtraction(a, b):\n",
    "    sub = a-b\n",
    "    return sub\n",
    "\n",
    "def distance(x1, y1, x2, y2): \n",
    "    dx = subtraction(x2,x1)  # call subtraction\n",
    "    dy = subtraction(y2,y1)  # call subtraction\n",
    "    dsquared = dx**2 + dy**2\n",
    "    result = math.sqrt(dsquared)\n",
    "    return result\n",
    "\n",
    "distance(1,2,4,6)"
   ]
  },
  {
   "cell_type": "markdown",
   "metadata": {},
   "source": [
    "calling itself"
   ]
  },
  {
   "cell_type": "code",
   "execution_count": 48,
   "metadata": {},
   "outputs": [],
   "source": [
    "def countdown(n):\n",
    "    if n == 0:\n",
    "        print(\"Blastoff!\")\n",
    "    else:\n",
    "        print(n) \n",
    "        countdown(n-1)"
   ]
  },
  {
   "cell_type": "code",
   "execution_count": 49,
   "metadata": {},
   "outputs": [
    {
     "name": "stdout",
     "output_type": "stream",
     "text": [
      "3\n",
      "2\n",
      "1\n",
      "Blastoff!\n"
     ]
    }
   ],
   "source": [
    "countdown(3)"
   ]
  },
  {
   "cell_type": "code",
   "execution_count": 50,
   "metadata": {},
   "outputs": [
    {
     "data": {
      "text/plain": [
       "24"
      ]
     },
     "execution_count": 50,
     "metadata": {},
     "output_type": "execute_result"
    }
   ],
   "source": [
    "def factorial(n):\n",
    "    if n == 0:\n",
    "        return 1 \n",
    "    else:\n",
    "        return n * factorial(n-1)\n",
    "\n",
    "factorial(4)"
   ]
  },
  {
   "cell_type": "code",
   "execution_count": 51,
   "metadata": {},
   "outputs": [
    {
     "data": {
      "text/plain": [
       "5"
      ]
     },
     "execution_count": 51,
     "metadata": {},
     "output_type": "execute_result"
    }
   ],
   "source": [
    "def fibonacci(n):\n",
    "    if n == 0:\n",
    "        return 0 \n",
    "    elif n == 1:\n",
    "        return 1 \n",
    "    else:\n",
    "        return fibonacci(n-1)+ fibonacci(n-2)\n",
    "    \n",
    "fibonacci(5)"
   ]
  }
 ],
 "metadata": {
  "kernelspec": {
   "display_name": "Python 3",
   "language": "python",
   "name": "python3"
  },
  "language_info": {
   "codemirror_mode": {
    "name": "ipython",
    "version": 3
   },
   "file_extension": ".py",
   "mimetype": "text/x-python",
   "name": "python",
   "nbconvert_exporter": "python",
   "pygments_lexer": "ipython3",
   "version": "3.8.3"
  }
 },
 "nbformat": 4,
 "nbformat_minor": 2
}
