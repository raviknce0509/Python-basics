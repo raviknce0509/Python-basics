{
 "cells": [
  {
   "cell_type": "markdown",
   "metadata": {},
   "source": [
    "# example of API"
   ]
  },
  {
   "cell_type": "code",
   "execution_count": 10,
   "metadata": {},
   "outputs": [],
   "source": [
    "import requests\n",
    "import json\n",
    "url= \"http://api.exchangeratesapi.io/v1/latest?access_key=xxx\"  # replace xxx with your own key\n",
    "response = requests.get(url)\n",
    "data = response.text\n",
    "\n",
    "# load returned json file\n",
    "parsed = json.loads(data)"
   ]
  },
  {
   "cell_type": "code",
   "execution_count": 11,
   "metadata": {},
   "outputs": [
    {
     "data": {
      "text/plain": [
       "{'success': True,\n",
       " 'timestamp': 1627401304,\n",
       " 'base': 'EUR',\n",
       " 'date': '2021-07-27',\n",
       " 'rates': {'AED': 4.344647,\n",
       "  'AFN': 94.801268,\n",
       "  'ALL': 122.178682,\n",
       "  'AMD': 570.437799,\n",
       "  'ANG': 2.123331,\n",
       "  'AOA': 755.805671,\n",
       "  'ARS': 114.218975,\n",
       "  'AUD': 1.605745,\n",
       "  'AWG': 2.129623,\n",
       "  'AZN': 2.012819,\n",
       "  'BAM': 1.962142,\n",
       "  'BBD': 2.388484,\n",
       "  'BDT': 100.320954,\n",
       "  'BGN': 1.957774,\n",
       "  'BHD': 0.44591,\n",
       "  'BIF': 2347.8482,\n",
       "  'BMD': 1.182795,\n",
       "  'BND': 1.60945,\n",
       "  'BOB': 8.168177,\n",
       "  'BRL': 6.107479,\n",
       "  'BSD': 1.182905,\n",
       "  'BTC': 3.0950957e-05,\n",
       "  'BTN': 88.050515,\n",
       "  'BWP': 13.187825,\n",
       "  'BYN': 2.977178,\n",
       "  'BYR': 23182.783235,\n",
       "  'BZD': 2.384471,\n",
       "  'CAD': 1.488086,\n",
       "  'CDF': 2365.59018,\n",
       "  'CHF': 1.081104,\n",
       "  'CLF': 0.032544,\n",
       "  'CLP': 897.9547,\n",
       "  'CNY': 7.701415,\n",
       "  'COP': 4638.094281,\n",
       "  'CRC': 733.489643,\n",
       "  'CUC': 1.182795,\n",
       "  'CUP': 31.344069,\n",
       "  'CVE': 111.44887,\n",
       "  'CZK': 25.69055,\n",
       "  'DJF': 210.587462,\n",
       "  'DKK': 7.437262,\n",
       "  'DOP': 67.498142,\n",
       "  'DZD': 159.334051,\n",
       "  'EGP': 18.558646,\n",
       "  'ERN': 17.746952,\n",
       "  'ETB': 52.291102,\n",
       "  'EUR': 1,\n",
       "  'FJD': 2.471773,\n",
       "  'FKP': 0.854878,\n",
       "  'GBP': 0.85176,\n",
       "  'GEL': 3.660757,\n",
       "  'GGP': 0.854878,\n",
       "  'GHS': 7.097028,\n",
       "  'GIP': 0.854878,\n",
       "  'GMD': 60.499924,\n",
       "  'GNF': 11650.531452,\n",
       "  'GTQ': 9.164783,\n",
       "  'GYD': 247.486165,\n",
       "  'HKD': 9.207066,\n",
       "  'HNL': 28.374978,\n",
       "  'HRK': 7.504716,\n",
       "  'HTG': 113.448966,\n",
       "  'HUF': 358.854141,\n",
       "  'IDR': 17166.437007,\n",
       "  'ILS': 3.849324,\n",
       "  'IMP': 0.854878,\n",
       "  'INR': 88.139637,\n",
       "  'IQD': 1727.47219,\n",
       "  'IRR': 49801.586071,\n",
       "  'ISK': 148.996836,\n",
       "  'JEP': 0.854878,\n",
       "  'JMD': 182.838056,\n",
       "  'JOD': 0.838622,\n",
       "  'JPY': 129.726001,\n",
       "  'KES': 128.337444,\n",
       "  'KGS': 100.012657,\n",
       "  'KHR': 4813.976624,\n",
       "  'KMF': 493.284416,\n",
       "  'KPW': 1064.515564,\n",
       "  'KRW': 1367.630776,\n",
       "  'KWD': 0.355668,\n",
       "  'KYD': 0.985571,\n",
       "  'KZT': 503.329215,\n",
       "  'LAK': 11313.43422,\n",
       "  'LBP': 1806.128002,\n",
       "  'LKR': 235.402201,\n",
       "  'LRD': 203.085235,\n",
       "  'LSL': 17.5822,\n",
       "  'LTL': 3.492486,\n",
       "  'LVL': 0.715461,\n",
       "  'LYD': 5.346213,\n",
       "  'MAD': 10.599619,\n",
       "  'MDL': 21.259693,\n",
       "  'MGA': 4503.494775,\n",
       "  'MKD': 61.823888,\n",
       "  'MMK': 1947.095463,\n",
       "  'MNT': 3368.735851,\n",
       "  'MOP': 9.482144,\n",
       "  'MRO': 422.257634,\n",
       "  'MUR': 50.388531,\n",
       "  'MVR': 18.274176,\n",
       "  'MWK': 946.235543,\n",
       "  'MXN': 23.634516,\n",
       "  'MYR': 5.005555,\n",
       "  'MZN': 75.260974,\n",
       "  'NAD': 17.588337,\n",
       "  'NGN': 486.746844,\n",
       "  'NIO': 41.754943,\n",
       "  'NOK': 10.491262,\n",
       "  'NPR': 140.881025,\n",
       "  'NZD': 1.699103,\n",
       "  'OMR': 0.455421,\n",
       "  'PAB': 1.182705,\n",
       "  'PEN': 4.634778,\n",
       "  'PGK': 4.147519,\n",
       "  'PHP': 59.757204,\n",
       "  'PKR': 190.899389,\n",
       "  'PLN': 4.59465,\n",
       "  'PYG': 8180.215832,\n",
       "  'QAR': 4.305268,\n",
       "  'RON': 4.918298,\n",
       "  'RSD': 117.954461,\n",
       "  'RUB': 87.227349,\n",
       "  'RWF': 1179.838075,\n",
       "  'SAR': 4.436269,\n",
       "  'SBD': 9.52727,\n",
       "  'SCR': 17.471905,\n",
       "  'SDG': 528.708914,\n",
       "  'SEK': 10.186077,\n",
       "  'SGD': 1.60853,\n",
       "  'SHP': 0.854878,\n",
       "  'SLL': 12123.649321,\n",
       "  'SOS': 691.935432,\n",
       "  'SRD': 25.344941,\n",
       "  'STD': 24365.370164,\n",
       "  'SVC': 10.348291,\n",
       "  'SYP': 1487.205994,\n",
       "  'SZL': 17.588692,\n",
       "  'THB': 38.937217,\n",
       "  'TJS': 13.491402,\n",
       "  'TMT': 4.139783,\n",
       "  'TND': 3.297045,\n",
       "  'TOP': 2.672703,\n",
       "  'TRY': 10.125674,\n",
       "  'TTD': 8.041269,\n",
       "  'TWD': 33.175629,\n",
       "  'TZS': 2743.224695,\n",
       "  'UAH': 31.791072,\n",
       "  'UGX': 4207.736328,\n",
       "  'USD': 1.182795,\n",
       "  'UYU': 51.765091,\n",
       "  'UZS': 12584.939833,\n",
       "  'VEF': 252917331304.5317,\n",
       "  'VND': 27211.974617,\n",
       "  'VUV': 130.247856,\n",
       "  'WST': 3.018086,\n",
       "  'XAF': 658.082403,\n",
       "  'XAG': 0.048214,\n",
       "  'XAU': 0.000657,\n",
       "  'XCD': 3.196563,\n",
       "  'XDR': 0.832087,\n",
       "  'XOF': 657.041724,\n",
       "  'XPF': 119.994898,\n",
       "  'YER': 295.758124,\n",
       "  'ZAR': 17.528254,\n",
       "  'ZMK': 10646.584364,\n",
       "  'ZMW': 22.5053,\n",
       "  'ZWL': 380.860293}}"
      ]
     },
     "execution_count": 11,
     "metadata": {},
     "output_type": "execute_result"
    }
   ],
   "source": [
    "# take a look at the json file\n",
    "parsed"
   ]
  },
  {
   "cell_type": "code",
   "execution_count": 12,
   "metadata": {},
   "outputs": [
    {
     "name": "stdout",
     "output_type": "stream",
     "text": [
      "Date: 2021-07-27 \n",
      "\n",
      "USD = AED 4.344647\n",
      "USD = AFN 94.801268\n",
      "USD = ALL 122.178682\n",
      "USD = AMD 570.437799\n",
      "USD = ANG 2.123331\n",
      "USD = AOA 755.805671\n",
      "USD = ARS 114.218975\n",
      "USD = AUD 1.605745\n",
      "USD = AWG 2.129623\n",
      "USD = AZN 2.012819\n",
      "USD = BAM 1.962142\n",
      "USD = BBD 2.388484\n",
      "USD = BDT 100.320954\n",
      "USD = BGN 1.957774\n",
      "USD = BHD 0.44591\n",
      "USD = BIF 2347.8482\n",
      "USD = BMD 1.182795\n",
      "USD = BND 1.60945\n",
      "USD = BOB 8.168177\n",
      "USD = BRL 6.107479\n",
      "USD = BSD 1.182905\n",
      "USD = BTC 3.0950957e-05\n",
      "USD = BTN 88.050515\n",
      "USD = BWP 13.187825\n",
      "USD = BYN 2.977178\n",
      "USD = BYR 23182.783235\n",
      "USD = BZD 2.384471\n",
      "USD = CAD 1.488086\n",
      "USD = CDF 2365.59018\n",
      "USD = CHF 1.081104\n",
      "USD = CLF 0.032544\n",
      "USD = CLP 897.9547\n",
      "USD = CNY 7.701415\n",
      "USD = COP 4638.094281\n",
      "USD = CRC 733.489643\n",
      "USD = CUC 1.182795\n",
      "USD = CUP 31.344069\n",
      "USD = CVE 111.44887\n",
      "USD = CZK 25.69055\n",
      "USD = DJF 210.587462\n",
      "USD = DKK 7.437262\n",
      "USD = DOP 67.498142\n",
      "USD = DZD 159.334051\n",
      "USD = EGP 18.558646\n",
      "USD = ERN 17.746952\n",
      "USD = ETB 52.291102\n",
      "USD = EUR 1\n",
      "USD = FJD 2.471773\n",
      "USD = FKP 0.854878\n",
      "USD = GBP 0.85176\n",
      "USD = GEL 3.660757\n",
      "USD = GGP 0.854878\n",
      "USD = GHS 7.097028\n",
      "USD = GIP 0.854878\n",
      "USD = GMD 60.499924\n",
      "USD = GNF 11650.531452\n",
      "USD = GTQ 9.164783\n",
      "USD = GYD 247.486165\n",
      "USD = HKD 9.207066\n",
      "USD = HNL 28.374978\n",
      "USD = HRK 7.504716\n",
      "USD = HTG 113.448966\n",
      "USD = HUF 358.854141\n",
      "USD = IDR 17166.437007\n",
      "USD = ILS 3.849324\n",
      "USD = IMP 0.854878\n",
      "USD = INR 88.139637\n",
      "USD = IQD 1727.47219\n",
      "USD = IRR 49801.586071\n",
      "USD = ISK 148.996836\n",
      "USD = JEP 0.854878\n",
      "USD = JMD 182.838056\n",
      "USD = JOD 0.838622\n",
      "USD = JPY 129.726001\n",
      "USD = KES 128.337444\n",
      "USD = KGS 100.012657\n",
      "USD = KHR 4813.976624\n",
      "USD = KMF 493.284416\n",
      "USD = KPW 1064.515564\n",
      "USD = KRW 1367.630776\n",
      "USD = KWD 0.355668\n",
      "USD = KYD 0.985571\n",
      "USD = KZT 503.329215\n",
      "USD = LAK 11313.43422\n",
      "USD = LBP 1806.128002\n",
      "USD = LKR 235.402201\n",
      "USD = LRD 203.085235\n",
      "USD = LSL 17.5822\n",
      "USD = LTL 3.492486\n",
      "USD = LVL 0.715461\n",
      "USD = LYD 5.346213\n",
      "USD = MAD 10.599619\n",
      "USD = MDL 21.259693\n",
      "USD = MGA 4503.494775\n",
      "USD = MKD 61.823888\n",
      "USD = MMK 1947.095463\n",
      "USD = MNT 3368.735851\n",
      "USD = MOP 9.482144\n",
      "USD = MRO 422.257634\n",
      "USD = MUR 50.388531\n",
      "USD = MVR 18.274176\n",
      "USD = MWK 946.235543\n",
      "USD = MXN 23.634516\n",
      "USD = MYR 5.005555\n",
      "USD = MZN 75.260974\n",
      "USD = NAD 17.588337\n",
      "USD = NGN 486.746844\n",
      "USD = NIO 41.754943\n",
      "USD = NOK 10.491262\n",
      "USD = NPR 140.881025\n",
      "USD = NZD 1.699103\n",
      "USD = OMR 0.455421\n",
      "USD = PAB 1.182705\n",
      "USD = PEN 4.634778\n",
      "USD = PGK 4.147519\n",
      "USD = PHP 59.757204\n",
      "USD = PKR 190.899389\n",
      "USD = PLN 4.59465\n",
      "USD = PYG 8180.215832\n",
      "USD = QAR 4.305268\n",
      "USD = RON 4.918298\n",
      "USD = RSD 117.954461\n",
      "USD = RUB 87.227349\n",
      "USD = RWF 1179.838075\n",
      "USD = SAR 4.436269\n",
      "USD = SBD 9.52727\n",
      "USD = SCR 17.471905\n",
      "USD = SDG 528.708914\n",
      "USD = SEK 10.186077\n",
      "USD = SGD 1.60853\n",
      "USD = SHP 0.854878\n",
      "USD = SLL 12123.649321\n",
      "USD = SOS 691.935432\n",
      "USD = SRD 25.344941\n",
      "USD = STD 24365.370164\n",
      "USD = SVC 10.348291\n",
      "USD = SYP 1487.205994\n",
      "USD = SZL 17.588692\n",
      "USD = THB 38.937217\n",
      "USD = TJS 13.491402\n",
      "USD = TMT 4.139783\n",
      "USD = TND 3.297045\n",
      "USD = TOP 2.672703\n",
      "USD = TRY 10.125674\n",
      "USD = TTD 8.041269\n",
      "USD = TWD 33.175629\n",
      "USD = TZS 2743.224695\n",
      "USD = UAH 31.791072\n",
      "USD = UGX 4207.736328\n",
      "USD = USD 1.182795\n",
      "USD = UYU 51.765091\n",
      "USD = UZS 12584.939833\n",
      "USD = VEF 252917331304.5317\n",
      "USD = VND 27211.974617\n",
      "USD = VUV 130.247856\n",
      "USD = WST 3.018086\n",
      "USD = XAF 658.082403\n",
      "USD = XAG 0.048214\n",
      "USD = XAU 0.000657\n",
      "USD = XCD 3.196563\n",
      "USD = XDR 0.832087\n",
      "USD = XOF 657.041724\n",
      "USD = XPF 119.994898\n",
      "USD = YER 295.758124\n",
      "USD = ZAR 17.528254\n",
      "USD = ZMK 10646.584364\n",
      "USD = ZMW 22.5053\n",
      "USD = ZWL 380.860293\n"
     ]
    }
   ],
   "source": [
    "# read content of the json file\n",
    "\n",
    "date = parsed[\"date\"]\n",
    "print(\"Date:\", date, \"\\n\")\n",
    "rates = parsed[\"rates\"]\n",
    "for currency, rate in rates.items():\n",
    "    print(\"USD =\",currency, rate)"
   ]
  },
  {
   "cell_type": "markdown",
   "metadata": {},
   "source": [
    "# example of HTML"
   ]
  },
  {
   "cell_type": "code",
   "execution_count": 2,
   "metadata": {},
   "outputs": [],
   "source": [
    "# import libraries\n",
    "from urllib.request import urlopen\n",
    "from bs4 import BeautifulSoup\n",
    "import os, csv\n",
    "\n",
    "# Specify url, get the webpage and return it to variable page\n",
    "page = urlopen('http://www.imdb.com/chart/top')"
   ]
  },
  {
   "cell_type": "code",
   "execution_count": 3,
   "metadata": {},
   "outputs": [
    {
     "name": "stdout",
     "output_type": "stream",
     "text": [
      "<class 'bs4.BeautifulSoup'>\n"
     ]
    }
   ],
   "source": [
    "# Parse the html page and store in variable soup\n",
    "soup = BeautifulSoup(page, 'html.parser')\n",
    "print(type(soup))"
   ]
  },
  {
   "cell_type": "code",
   "execution_count": 4,
   "metadata": {},
   "outputs": [],
   "source": [
    "# Take out the <td> of name and get its value\n",
    "name_box = soup.find('td', attrs={'class': 'titleColumn'})"
   ]
  },
  {
   "cell_type": "code",
   "execution_count": 5,
   "metadata": {},
   "outputs": [
    {
     "name": "stdout",
     "output_type": "stream",
     "text": [
      "1.\n",
      "      The Shawshank Redemption\n",
      "(1994)\n"
     ]
    }
   ],
   "source": [
    "# Get the data using its text\n",
    "# strip() is used to remove starting and trailing\n",
    "name = name_box.text.strip()\n",
    "print(name)"
   ]
  },
  {
   "cell_type": "code",
   "execution_count": 6,
   "metadata": {},
   "outputs": [
    {
     "name": "stdout",
     "output_type": "stream",
     "text": [
      "      The Shawshank Redemption\n"
     ]
    }
   ],
   "source": [
    "print(name.split('\\n')[1])"
   ]
  },
  {
   "cell_type": "code",
   "execution_count": 7,
   "metadata": {},
   "outputs": [
    {
     "name": "stdout",
     "output_type": "stream",
     "text": [
      "\n",
      "9.2\n",
      "\n"
     ]
    }
   ],
   "source": [
    "# Get the rating\n",
    "rating_box = soup.find('td', attrs={'class':'ratingColumn imdbRating'})\n",
    "rating = rating_box.text\n",
    "print(rating)"
   ]
  },
  {
   "cell_type": "markdown",
   "metadata": {},
   "source": [
    "### get full records"
   ]
  },
  {
   "cell_type": "code",
   "execution_count": 17,
   "metadata": {},
   "outputs": [
    {
     "name": "stdout",
     "output_type": "stream",
     "text": [
      "<td class=\"titleColumn\">\n",
      "      2.\n",
      "      <a href=\"/title/tt0068646/\" title=\"Francis Ford Coppola (dir.), Marlon Brando, Al Pacino\">The Godfather</a>\n",
      "<span class=\"secondaryInfo\">(1972)</span>\n",
      "</td>\n"
     ]
    }
   ],
   "source": [
    "# get the HTML and parse it\n",
    "films = soup.find_all('td', attrs={'class':'titleColumn'})\n",
    "print(films[1])"
   ]
  },
  {
   "cell_type": "code",
   "execution_count": 18,
   "metadata": {},
   "outputs": [
    {
     "name": "stdout",
     "output_type": "stream",
     "text": [
      "9\n"
     ]
    }
   ],
   "source": [
    "ratings = soup.find_all('td', attrs={'class':'ratingColumn imdbRating'})\n",
    "print(rating[1])"
   ]
  },
  {
   "cell_type": "code",
   "execution_count": 9,
   "metadata": {},
   "outputs": [],
   "source": [
    "# store data in a dictionary\n",
    "sdata = {}\n",
    "for i in range(5):\n",
    "    a = films[i].get_text().split(\"\\n\")[2].strip()\n",
    "    sdata[a] = float(ratings[i].text.strip())"
   ]
  },
  {
   "cell_type": "code",
   "execution_count": 15,
   "metadata": {},
   "outputs": [
    {
     "name": "stdout",
     "output_type": "stream",
     "text": [
      "{'The Shawshank Redemption': 9.2, 'The Godfather': 9.1, 'The Godfather: Part II': 9.0, 'The Dark Knight': 9.0, '12 Angry Men': 8.9}\n"
     ]
    }
   ],
   "source": [
    "print(sdata)"
   ]
  },
  {
   "cell_type": "code",
   "execution_count": 16,
   "metadata": {},
   "outputs": [],
   "source": [
    "# write it to a csv file\n",
    "with open (\"filmdata.csv\", \"w\") as toWrite:\n",
    "    writer = csv.writer(toWrite, delimiter=\",\")\n",
    "    writer.writerow([\"film\", \"rating\"])\n",
    "    for a in sdata.keys():\n",
    "        writer.writerow([a, sdata[a]])"
   ]
  },
  {
   "cell_type": "markdown",
   "metadata": {},
   "source": [
    "# Selenium"
   ]
  },
  {
   "cell_type": "code",
   "execution_count": 2,
   "metadata": {},
   "outputs": [],
   "source": [
    "# import packages\n",
    "from bs4 import BeautifulSoup\n",
    "from selenium import webdriver\n",
    "from selenium.webdriver.common.keys import Keys"
   ]
  },
  {
   "cell_type": "code",
   "execution_count": 4,
   "metadata": {},
   "outputs": [],
   "source": [
    "#-----Below use selenium for log into appannie\n",
    "\n",
    "driver = webdriver.Chrome(executable_path=r\"C:\\Users\\maten\\Downloads\\chromedriver_win32\\chromedriver.exe\")\n",
    "driver.get('https://www.appannie.com/account/login/')\n",
    "elem1=driver.find_element_by_name(\"username\")\n",
    "elem1.send_keys('xxx')  # replace xxx with your user name\n",
    "elem2=driver.find_element_by_xpath(\"//*[@id=\\\"__next\\\"]/div/div/div[1]/div/div[3]/form/div/div[2]/input\")\n",
    "elem2.send_keys(\"xxx\")  # replace xxx with your password\n",
    "driver.find_element_by_xpath(\"//*[@id=\\\"__next\\\"]/div/div/div[1]/div/div[3]/form/div/button\").click()"
   ]
  },
  {
   "cell_type": "code",
   "execution_count": null,
   "metadata": {},
   "outputs": [],
   "source": []
  }
 ],
 "metadata": {
  "kernelspec": {
   "display_name": "Python 3",
   "language": "python",
   "name": "python3"
  },
  "language_info": {
   "codemirror_mode": {
    "name": "ipython",
    "version": 3
   },
   "file_extension": ".py",
   "mimetype": "text/x-python",
   "name": "python",
   "nbconvert_exporter": "python",
   "pygments_lexer": "ipython3",
   "version": "3.8.3"
  }
 },
 "nbformat": 4,
 "nbformat_minor": 2
}
