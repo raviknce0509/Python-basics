{
  "nbformat": 4,
  "nbformat_minor": 0,
  "metadata": {
    "colab": {
      "name": "Lec13DeepLearning.ipynb",
      "provenance": [],
      "collapsed_sections": []
    },
    "kernelspec": {
      "name": "python3",
      "display_name": "Python 3"
    },
    "language_info": {
      "name": "python"
    }
  },
  "cells": [
    {
      "cell_type": "markdown",
      "source": [
        "We have two datasets, one for white wine and one for red wine.\n",
        "\n",
        "We have a bunch of features for each wine, such as fixed acidity, free sulfur dioxide, alcohol and etc.\n",
        "\n",
        "**We want to predict wine category given features**"
      ],
      "metadata": {
        "id": "TT4_alImFxT4"
      }
    },
    {
      "cell_type": "code",
      "execution_count": 1,
      "metadata": {
        "id": "XlxHz_gUFKh2"
      },
      "outputs": [],
      "source": [
        "import pandas as pd\n",
        "import numpy as np\n",
        "from sklearn.model_selection import train_test_split\n",
        "from sklearn.preprocessing import StandardScaler\n",
        "from keras.models import Sequential\n",
        "from keras.layers import Dense"
      ]
    },
    {
      "cell_type": "markdown",
      "source": [
        "### Import and preprocess the data"
      ],
      "metadata": {
        "id": "PN4g_U07FZqs"
      }
    },
    {
      "cell_type": "code",
      "source": [
        "# Read in white wine data\n",
        "white = pd.read_csv(\"http://archive.ics.uci.edu/ml/machine-learning-databases/wine-quality/winequality-white.csv\", sep=';')\n",
        "# Read in red wine data\n",
        "red = pd.read_csv(\"http://archive.ics.uci.edu/ml/machine-learning-databases/wine-quality/winequality-red.csv\", sep=';')\n",
        "\n",
        "#preprocessing data\n",
        "# Add an additional column ‘type’. Value of red wine is 1 and white wine is zero\n",
        "red['type'] = 1\n",
        "white['type'] = 0\n",
        "# Append the two dataset together\n",
        "wines = red.append(white, ignore_index=True)"
      ],
      "metadata": {
        "id": "QEQ7MnuSFRPe"
      },
      "execution_count": 2,
      "outputs": []
    },
    {
      "cell_type": "code",
      "source": [
        "wines"
      ],
      "metadata": {
        "colab": {
          "base_uri": "https://localhost:8080/",
          "height": 424
        },
        "id": "TTDE19lxFrEk",
        "outputId": "804beb09-ff5c-43ab-da12-432d83262123"
      },
      "execution_count": 3,
      "outputs": [
        {
          "output_type": "execute_result",
          "data": {
            "text/plain": [
              "      fixed acidity  volatile acidity  citric acid  residual sugar  chlorides  \\\n",
              "0               7.4              0.70         0.00             1.9      0.076   \n",
              "1               7.8              0.88         0.00             2.6      0.098   \n",
              "2               7.8              0.76         0.04             2.3      0.092   \n",
              "3              11.2              0.28         0.56             1.9      0.075   \n",
              "4               7.4              0.70         0.00             1.9      0.076   \n",
              "...             ...               ...          ...             ...        ...   \n",
              "6492            6.2              0.21         0.29             1.6      0.039   \n",
              "6493            6.6              0.32         0.36             8.0      0.047   \n",
              "6494            6.5              0.24         0.19             1.2      0.041   \n",
              "6495            5.5              0.29         0.30             1.1      0.022   \n",
              "6496            6.0              0.21         0.38             0.8      0.020   \n",
              "\n",
              "      free sulfur dioxide  total sulfur dioxide  density    pH  sulphates  \\\n",
              "0                    11.0                  34.0  0.99780  3.51       0.56   \n",
              "1                    25.0                  67.0  0.99680  3.20       0.68   \n",
              "2                    15.0                  54.0  0.99700  3.26       0.65   \n",
              "3                    17.0                  60.0  0.99800  3.16       0.58   \n",
              "4                    11.0                  34.0  0.99780  3.51       0.56   \n",
              "...                   ...                   ...      ...   ...        ...   \n",
              "6492                 24.0                  92.0  0.99114  3.27       0.50   \n",
              "6493                 57.0                 168.0  0.99490  3.15       0.46   \n",
              "6494                 30.0                 111.0  0.99254  2.99       0.46   \n",
              "6495                 20.0                 110.0  0.98869  3.34       0.38   \n",
              "6496                 22.0                  98.0  0.98941  3.26       0.32   \n",
              "\n",
              "      alcohol  quality  type  \n",
              "0         9.4        5     1  \n",
              "1         9.8        5     1  \n",
              "2         9.8        5     1  \n",
              "3         9.8        6     1  \n",
              "4         9.4        5     1  \n",
              "...       ...      ...   ...  \n",
              "6492     11.2        6     0  \n",
              "6493      9.6        5     0  \n",
              "6494      9.4        6     0  \n",
              "6495     12.8        7     0  \n",
              "6496     11.8        6     0  \n",
              "\n",
              "[6497 rows x 13 columns]"
            ],
            "text/html": [
              "\n",
              "  <div id=\"df-85ff7155-ee31-48c1-8aa6-7ab809cdbac9\">\n",
              "    <div class=\"colab-df-container\">\n",
              "      <div>\n",
              "<style scoped>\n",
              "    .dataframe tbody tr th:only-of-type {\n",
              "        vertical-align: middle;\n",
              "    }\n",
              "\n",
              "    .dataframe tbody tr th {\n",
              "        vertical-align: top;\n",
              "    }\n",
              "\n",
              "    .dataframe thead th {\n",
              "        text-align: right;\n",
              "    }\n",
              "</style>\n",
              "<table border=\"1\" class=\"dataframe\">\n",
              "  <thead>\n",
              "    <tr style=\"text-align: right;\">\n",
              "      <th></th>\n",
              "      <th>fixed acidity</th>\n",
              "      <th>volatile acidity</th>\n",
              "      <th>citric acid</th>\n",
              "      <th>residual sugar</th>\n",
              "      <th>chlorides</th>\n",
              "      <th>free sulfur dioxide</th>\n",
              "      <th>total sulfur dioxide</th>\n",
              "      <th>density</th>\n",
              "      <th>pH</th>\n",
              "      <th>sulphates</th>\n",
              "      <th>alcohol</th>\n",
              "      <th>quality</th>\n",
              "      <th>type</th>\n",
              "    </tr>\n",
              "  </thead>\n",
              "  <tbody>\n",
              "    <tr>\n",
              "      <th>0</th>\n",
              "      <td>7.4</td>\n",
              "      <td>0.70</td>\n",
              "      <td>0.00</td>\n",
              "      <td>1.9</td>\n",
              "      <td>0.076</td>\n",
              "      <td>11.0</td>\n",
              "      <td>34.0</td>\n",
              "      <td>0.99780</td>\n",
              "      <td>3.51</td>\n",
              "      <td>0.56</td>\n",
              "      <td>9.4</td>\n",
              "      <td>5</td>\n",
              "      <td>1</td>\n",
              "    </tr>\n",
              "    <tr>\n",
              "      <th>1</th>\n",
              "      <td>7.8</td>\n",
              "      <td>0.88</td>\n",
              "      <td>0.00</td>\n",
              "      <td>2.6</td>\n",
              "      <td>0.098</td>\n",
              "      <td>25.0</td>\n",
              "      <td>67.0</td>\n",
              "      <td>0.99680</td>\n",
              "      <td>3.20</td>\n",
              "      <td>0.68</td>\n",
              "      <td>9.8</td>\n",
              "      <td>5</td>\n",
              "      <td>1</td>\n",
              "    </tr>\n",
              "    <tr>\n",
              "      <th>2</th>\n",
              "      <td>7.8</td>\n",
              "      <td>0.76</td>\n",
              "      <td>0.04</td>\n",
              "      <td>2.3</td>\n",
              "      <td>0.092</td>\n",
              "      <td>15.0</td>\n",
              "      <td>54.0</td>\n",
              "      <td>0.99700</td>\n",
              "      <td>3.26</td>\n",
              "      <td>0.65</td>\n",
              "      <td>9.8</td>\n",
              "      <td>5</td>\n",
              "      <td>1</td>\n",
              "    </tr>\n",
              "    <tr>\n",
              "      <th>3</th>\n",
              "      <td>11.2</td>\n",
              "      <td>0.28</td>\n",
              "      <td>0.56</td>\n",
              "      <td>1.9</td>\n",
              "      <td>0.075</td>\n",
              "      <td>17.0</td>\n",
              "      <td>60.0</td>\n",
              "      <td>0.99800</td>\n",
              "      <td>3.16</td>\n",
              "      <td>0.58</td>\n",
              "      <td>9.8</td>\n",
              "      <td>6</td>\n",
              "      <td>1</td>\n",
              "    </tr>\n",
              "    <tr>\n",
              "      <th>4</th>\n",
              "      <td>7.4</td>\n",
              "      <td>0.70</td>\n",
              "      <td>0.00</td>\n",
              "      <td>1.9</td>\n",
              "      <td>0.076</td>\n",
              "      <td>11.0</td>\n",
              "      <td>34.0</td>\n",
              "      <td>0.99780</td>\n",
              "      <td>3.51</td>\n",
              "      <td>0.56</td>\n",
              "      <td>9.4</td>\n",
              "      <td>5</td>\n",
              "      <td>1</td>\n",
              "    </tr>\n",
              "    <tr>\n",
              "      <th>...</th>\n",
              "      <td>...</td>\n",
              "      <td>...</td>\n",
              "      <td>...</td>\n",
              "      <td>...</td>\n",
              "      <td>...</td>\n",
              "      <td>...</td>\n",
              "      <td>...</td>\n",
              "      <td>...</td>\n",
              "      <td>...</td>\n",
              "      <td>...</td>\n",
              "      <td>...</td>\n",
              "      <td>...</td>\n",
              "      <td>...</td>\n",
              "    </tr>\n",
              "    <tr>\n",
              "      <th>6492</th>\n",
              "      <td>6.2</td>\n",
              "      <td>0.21</td>\n",
              "      <td>0.29</td>\n",
              "      <td>1.6</td>\n",
              "      <td>0.039</td>\n",
              "      <td>24.0</td>\n",
              "      <td>92.0</td>\n",
              "      <td>0.99114</td>\n",
              "      <td>3.27</td>\n",
              "      <td>0.50</td>\n",
              "      <td>11.2</td>\n",
              "      <td>6</td>\n",
              "      <td>0</td>\n",
              "    </tr>\n",
              "    <tr>\n",
              "      <th>6493</th>\n",
              "      <td>6.6</td>\n",
              "      <td>0.32</td>\n",
              "      <td>0.36</td>\n",
              "      <td>8.0</td>\n",
              "      <td>0.047</td>\n",
              "      <td>57.0</td>\n",
              "      <td>168.0</td>\n",
              "      <td>0.99490</td>\n",
              "      <td>3.15</td>\n",
              "      <td>0.46</td>\n",
              "      <td>9.6</td>\n",
              "      <td>5</td>\n",
              "      <td>0</td>\n",
              "    </tr>\n",
              "    <tr>\n",
              "      <th>6494</th>\n",
              "      <td>6.5</td>\n",
              "      <td>0.24</td>\n",
              "      <td>0.19</td>\n",
              "      <td>1.2</td>\n",
              "      <td>0.041</td>\n",
              "      <td>30.0</td>\n",
              "      <td>111.0</td>\n",
              "      <td>0.99254</td>\n",
              "      <td>2.99</td>\n",
              "      <td>0.46</td>\n",
              "      <td>9.4</td>\n",
              "      <td>6</td>\n",
              "      <td>0</td>\n",
              "    </tr>\n",
              "    <tr>\n",
              "      <th>6495</th>\n",
              "      <td>5.5</td>\n",
              "      <td>0.29</td>\n",
              "      <td>0.30</td>\n",
              "      <td>1.1</td>\n",
              "      <td>0.022</td>\n",
              "      <td>20.0</td>\n",
              "      <td>110.0</td>\n",
              "      <td>0.98869</td>\n",
              "      <td>3.34</td>\n",
              "      <td>0.38</td>\n",
              "      <td>12.8</td>\n",
              "      <td>7</td>\n",
              "      <td>0</td>\n",
              "    </tr>\n",
              "    <tr>\n",
              "      <th>6496</th>\n",
              "      <td>6.0</td>\n",
              "      <td>0.21</td>\n",
              "      <td>0.38</td>\n",
              "      <td>0.8</td>\n",
              "      <td>0.020</td>\n",
              "      <td>22.0</td>\n",
              "      <td>98.0</td>\n",
              "      <td>0.98941</td>\n",
              "      <td>3.26</td>\n",
              "      <td>0.32</td>\n",
              "      <td>11.8</td>\n",
              "      <td>6</td>\n",
              "      <td>0</td>\n",
              "    </tr>\n",
              "  </tbody>\n",
              "</table>\n",
              "<p>6497 rows × 13 columns</p>\n",
              "</div>\n",
              "      <button class=\"colab-df-convert\" onclick=\"convertToInteractive('df-85ff7155-ee31-48c1-8aa6-7ab809cdbac9')\"\n",
              "              title=\"Convert this dataframe to an interactive table.\"\n",
              "              style=\"display:none;\">\n",
              "        \n",
              "  <svg xmlns=\"http://www.w3.org/2000/svg\" height=\"24px\"viewBox=\"0 0 24 24\"\n",
              "       width=\"24px\">\n",
              "    <path d=\"M0 0h24v24H0V0z\" fill=\"none\"/>\n",
              "    <path d=\"M18.56 5.44l.94 2.06.94-2.06 2.06-.94-2.06-.94-.94-2.06-.94 2.06-2.06.94zm-11 1L8.5 8.5l.94-2.06 2.06-.94-2.06-.94L8.5 2.5l-.94 2.06-2.06.94zm10 10l.94 2.06.94-2.06 2.06-.94-2.06-.94-.94-2.06-.94 2.06-2.06.94z\"/><path d=\"M17.41 7.96l-1.37-1.37c-.4-.4-.92-.59-1.43-.59-.52 0-1.04.2-1.43.59L10.3 9.45l-7.72 7.72c-.78.78-.78 2.05 0 2.83L4 21.41c.39.39.9.59 1.41.59.51 0 1.02-.2 1.41-.59l7.78-7.78 2.81-2.81c.8-.78.8-2.07 0-2.86zM5.41 20L4 18.59l7.72-7.72 1.47 1.35L5.41 20z\"/>\n",
              "  </svg>\n",
              "      </button>\n",
              "      \n",
              "  <style>\n",
              "    .colab-df-container {\n",
              "      display:flex;\n",
              "      flex-wrap:wrap;\n",
              "      gap: 12px;\n",
              "    }\n",
              "\n",
              "    .colab-df-convert {\n",
              "      background-color: #E8F0FE;\n",
              "      border: none;\n",
              "      border-radius: 50%;\n",
              "      cursor: pointer;\n",
              "      display: none;\n",
              "      fill: #1967D2;\n",
              "      height: 32px;\n",
              "      padding: 0 0 0 0;\n",
              "      width: 32px;\n",
              "    }\n",
              "\n",
              "    .colab-df-convert:hover {\n",
              "      background-color: #E2EBFA;\n",
              "      box-shadow: 0px 1px 2px rgba(60, 64, 67, 0.3), 0px 1px 3px 1px rgba(60, 64, 67, 0.15);\n",
              "      fill: #174EA6;\n",
              "    }\n",
              "\n",
              "    [theme=dark] .colab-df-convert {\n",
              "      background-color: #3B4455;\n",
              "      fill: #D2E3FC;\n",
              "    }\n",
              "\n",
              "    [theme=dark] .colab-df-convert:hover {\n",
              "      background-color: #434B5C;\n",
              "      box-shadow: 0px 1px 3px 1px rgba(0, 0, 0, 0.15);\n",
              "      filter: drop-shadow(0px 1px 2px rgba(0, 0, 0, 0.3));\n",
              "      fill: #FFFFFF;\n",
              "    }\n",
              "  </style>\n",
              "\n",
              "      <script>\n",
              "        const buttonEl =\n",
              "          document.querySelector('#df-85ff7155-ee31-48c1-8aa6-7ab809cdbac9 button.colab-df-convert');\n",
              "        buttonEl.style.display =\n",
              "          google.colab.kernel.accessAllowed ? 'block' : 'none';\n",
              "\n",
              "        async function convertToInteractive(key) {\n",
              "          const element = document.querySelector('#df-85ff7155-ee31-48c1-8aa6-7ab809cdbac9');\n",
              "          const dataTable =\n",
              "            await google.colab.kernel.invokeFunction('convertToInteractive',\n",
              "                                                     [key], {});\n",
              "          if (!dataTable) return;\n",
              "\n",
              "          const docLinkHtml = 'Like what you see? Visit the ' +\n",
              "            '<a target=\"_blank\" href=https://colab.research.google.com/notebooks/data_table.ipynb>data table notebook</a>'\n",
              "            + ' to learn more about interactive tables.';\n",
              "          element.innerHTML = '';\n",
              "          dataTable['output_type'] = 'display_data';\n",
              "          await google.colab.output.renderOutput(dataTable, element);\n",
              "          const docLink = document.createElement('div');\n",
              "          docLink.innerHTML = docLinkHtml;\n",
              "          element.appendChild(docLink);\n",
              "        }\n",
              "      </script>\n",
              "    </div>\n",
              "  </div>\n",
              "  "
            ]
          },
          "metadata": {},
          "execution_count": 3
        }
      ]
    },
    {
      "cell_type": "markdown",
      "source": [
        "### Specify dataset and split into training/validation dataset"
      ],
      "metadata": {
        "id": "M1NExgWSFwsz"
      }
    },
    {
      "cell_type": "code",
      "source": [
        "# Specify the data\n",
        "X=wines.iloc[:,0:11]\n",
        "# Specify the target labels and flatten the array\n",
        "y= np.ravel(wines.type)\n",
        "# Split the data up in train and test sets\n",
        "X_train, X_test, y_train, y_test= train_test_split(X, y, test_size=0.2, random_state=42)"
      ],
      "metadata": {
        "id": "hqT70GioFsYm"
      },
      "execution_count": 4,
      "outputs": []
    },
    {
      "cell_type": "markdown",
      "source": [
        "### Scale the dataset"
      ],
      "metadata": {
        "id": "3rFBZfRHGIfK"
      }
    },
    {
      "cell_type": "code",
      "source": [
        "# Define the scaler\n",
        "scaler = StandardScaler().fit(X_train)\n",
        "# Scale the train set\n",
        "X_train= scaler.transform(X_train)\n",
        "# Scale the test set\n",
        "X_test= scaler.transform(X_test)"
      ],
      "metadata": {
        "id": "JpnGbXo-GID9"
      },
      "execution_count": 5,
      "outputs": []
    },
    {
      "cell_type": "markdown",
      "source": [
        "### Construct deep neural network"
      ],
      "metadata": {
        "id": "6irZnRJ9GP12"
      }
    },
    {
      "cell_type": "code",
      "source": [
        "# Initialize the constructor, which creates a linear stack of layers\n",
        "model = Sequential()"
      ],
      "metadata": {
        "id": "CBO1ln6GGNwb"
      },
      "execution_count": 6,
      "outputs": []
    },
    {
      "cell_type": "code",
      "source": [
        "# Add hidden layer 1 with an input layer\n",
        "model.add(Dense(12, activation='relu', input_shape=(11,)))"
      ],
      "metadata": {
        "id": "GkV1RhNVGTVw"
      },
      "execution_count": 7,
      "outputs": []
    },
    {
      "cell_type": "markdown",
      "source": [
        "### Construct deep neural network"
      ],
      "metadata": {
        "id": "ETDqoTjGGc6r"
      }
    },
    {
      "cell_type": "code",
      "source": [
        "# Add 2ndhidden layer\n",
        "model.add(Dense(8, activation='relu'))\n",
        "# Add an output layer\n",
        "model.add(Dense(1, activation='sigmoid'))"
      ],
      "metadata": {
        "id": "FbkUPhWTGaOo"
      },
      "execution_count": 8,
      "outputs": []
    },
    {
      "cell_type": "markdown",
      "source": [
        "### Summary about the deep learning model"
      ],
      "metadata": {
        "id": "O7L9y6cvGhOt"
      }
    },
    {
      "cell_type": "code",
      "source": [
        "# Model output shape\n",
        "model.output_shape"
      ],
      "metadata": {
        "colab": {
          "base_uri": "https://localhost:8080/"
        },
        "id": "Fa-vcm0oGfXf",
        "outputId": "683f3447-6897-435a-9770-04a0520b7d5d"
      },
      "execution_count": 9,
      "outputs": [
        {
          "output_type": "execute_result",
          "data": {
            "text/plain": [
              "(None, 1)"
            ]
          },
          "metadata": {},
          "execution_count": 9
        }
      ]
    },
    {
      "cell_type": "code",
      "source": [
        "# Model summary\n",
        "model.summary()"
      ],
      "metadata": {
        "colab": {
          "base_uri": "https://localhost:8080/"
        },
        "id": "0R4-_xKlGlHW",
        "outputId": "4c0c2552-5948-4ed0-afbe-0bb693c24f5c"
      },
      "execution_count": 10,
      "outputs": [
        {
          "output_type": "stream",
          "name": "stdout",
          "text": [
            "Model: \"sequential\"\n",
            "_________________________________________________________________\n",
            " Layer (type)                Output Shape              Param #   \n",
            "=================================================================\n",
            " dense (Dense)               (None, 12)                144       \n",
            "                                                                 \n",
            " dense_1 (Dense)             (None, 8)                 104       \n",
            "                                                                 \n",
            " dense_2 (Dense)             (None, 1)                 9         \n",
            "                                                                 \n",
            "=================================================================\n",
            "Total params: 257\n",
            "Trainable params: 257\n",
            "Non-trainable params: 0\n",
            "_________________________________________________________________\n"
          ]
        }
      ]
    },
    {
      "cell_type": "code",
      "source": [
        "# Model config\n",
        "model.get_config()"
      ],
      "metadata": {
        "colab": {
          "base_uri": "https://localhost:8080/"
        },
        "id": "cPnE5v9TGml-",
        "outputId": "de6b8bb8-d5db-4cbc-9f5e-ce3cf0360811"
      },
      "execution_count": 11,
      "outputs": [
        {
          "output_type": "execute_result",
          "data": {
            "text/plain": [
              "{'layers': [{'class_name': 'InputLayer',\n",
              "   'config': {'batch_input_shape': (None, 11),\n",
              "    'dtype': 'float32',\n",
              "    'name': 'dense_input',\n",
              "    'ragged': False,\n",
              "    'sparse': False}},\n",
              "  {'class_name': 'Dense',\n",
              "   'config': {'activation': 'relu',\n",
              "    'activity_regularizer': None,\n",
              "    'batch_input_shape': (None, 11),\n",
              "    'bias_constraint': None,\n",
              "    'bias_initializer': {'class_name': 'Zeros', 'config': {}},\n",
              "    'bias_regularizer': None,\n",
              "    'dtype': 'float32',\n",
              "    'kernel_constraint': None,\n",
              "    'kernel_initializer': {'class_name': 'GlorotUniform',\n",
              "     'config': {'seed': None}},\n",
              "    'kernel_regularizer': None,\n",
              "    'name': 'dense',\n",
              "    'trainable': True,\n",
              "    'units': 12,\n",
              "    'use_bias': True}},\n",
              "  {'class_name': 'Dense',\n",
              "   'config': {'activation': 'relu',\n",
              "    'activity_regularizer': None,\n",
              "    'bias_constraint': None,\n",
              "    'bias_initializer': {'class_name': 'Zeros', 'config': {}},\n",
              "    'bias_regularizer': None,\n",
              "    'dtype': 'float32',\n",
              "    'kernel_constraint': None,\n",
              "    'kernel_initializer': {'class_name': 'GlorotUniform',\n",
              "     'config': {'seed': None}},\n",
              "    'kernel_regularizer': None,\n",
              "    'name': 'dense_1',\n",
              "    'trainable': True,\n",
              "    'units': 8,\n",
              "    'use_bias': True}},\n",
              "  {'class_name': 'Dense',\n",
              "   'config': {'activation': 'sigmoid',\n",
              "    'activity_regularizer': None,\n",
              "    'bias_constraint': None,\n",
              "    'bias_initializer': {'class_name': 'Zeros', 'config': {}},\n",
              "    'bias_regularizer': None,\n",
              "    'dtype': 'float32',\n",
              "    'kernel_constraint': None,\n",
              "    'kernel_initializer': {'class_name': 'GlorotUniform',\n",
              "     'config': {'seed': None}},\n",
              "    'kernel_regularizer': None,\n",
              "    'name': 'dense_2',\n",
              "    'trainable': True,\n",
              "    'units': 1,\n",
              "    'use_bias': True}}],\n",
              " 'name': 'sequential'}"
            ]
          },
          "metadata": {},
          "execution_count": 11
        }
      ]
    },
    {
      "cell_type": "code",
      "source": [
        "# List all weight tensors\n",
        "model.get_weights()"
      ],
      "metadata": {
        "colab": {
          "base_uri": "https://localhost:8080/"
        },
        "id": "4zi8z6ErGoUe",
        "outputId": "8d3fc2db-6568-4a4f-9884-f1d238563f3f"
      },
      "execution_count": 12,
      "outputs": [
        {
          "output_type": "execute_result",
          "data": {
            "text/plain": [
              "[array([[ 0.47146064,  0.05119932, -0.28229493,  0.20067775, -0.30286682,\n",
              "          0.04556751,  0.29268295, -0.09223312, -0.34381783,  0.10773617,\n",
              "         -0.50352854, -0.06318495],\n",
              "        [-0.11292458,  0.08269852, -0.2812276 , -0.38850665, -0.25806266,\n",
              "          0.03573632, -0.24551249, -0.10098764,  0.0023905 ,  0.14156622,\n",
              "         -0.0141302 ,  0.21317685],\n",
              "        [-0.14187568, -0.49433646,  0.20138747,  0.33762628, -0.4248299 ,\n",
              "          0.30257142, -0.20322356, -0.19053662, -0.06896979,  0.3772335 ,\n",
              "          0.15596396, -0.33300644],\n",
              "        [ 0.06453031,  0.25170648, -0.11679879, -0.37570107, -0.5063907 ,\n",
              "          0.4997651 ,  0.12630928,  0.28874224,  0.00759327,  0.34306234,\n",
              "         -0.42542657,  0.43981653],\n",
              "        [-0.42533976, -0.37483382,  0.06252277, -0.38589874, -0.27369505,\n",
              "         -0.43524978, -0.00052667, -0.490863  ,  0.50294536, -0.30390286,\n",
              "         -0.3110618 ,  0.07624024],\n",
              "        [ 0.3524189 ,  0.11951458,  0.26565963,  0.24208397, -0.21152934,\n",
              "          0.24167955, -0.22147483, -0.26166704, -0.24967372,  0.44881713,\n",
              "          0.14589626, -0.2066505 ],\n",
              "        [ 0.20056498,  0.3559562 , -0.0889658 , -0.36745596, -0.1299167 ,\n",
              "         -0.13354054,  0.15469825,  0.05235749,  0.17769992, -0.5097683 ,\n",
              "         -0.26463258,  0.5048316 ],\n",
              "        [ 0.3872229 , -0.1605143 , -0.44375905,  0.36129224, -0.08119011,\n",
              "          0.2709816 , -0.46439475, -0.31744283, -0.50934196,  0.41739976,\n",
              "         -0.09270826,  0.30400318],\n",
              "        [ 0.39284968, -0.09931338, -0.24566054,  0.11056828, -0.12365803,\n",
              "          0.11148763, -0.07904288, -0.3932491 , -0.4858978 , -0.15827486,\n",
              "         -0.07630846,  0.36906618],\n",
              "        [ 0.4330576 , -0.15231931, -0.14769071,  0.03067178, -0.07403168,\n",
              "         -0.034998  ,  0.2039882 ,  0.22923994,  0.43395007,  0.2761252 ,\n",
              "         -0.42161995, -0.31268856],\n",
              "        [ 0.34960973, -0.06368837, -0.50740343,  0.43650955,  0.03914106,\n",
              "         -0.3631189 , -0.24005473,  0.3500201 , -0.4295335 ,  0.08621144,\n",
              "          0.05841804,  0.30688214]], dtype=float32),\n",
              " array([0., 0., 0., 0., 0., 0., 0., 0., 0., 0., 0., 0.], dtype=float32),\n",
              " array([[-0.18430313,  0.14043051, -0.29476035, -0.03560072, -0.42802605,\n",
              "          0.2896003 ,  0.03506148,  0.34679037],\n",
              "        [ 0.49164903,  0.17337966, -0.11324015, -0.41170487, -0.06562948,\n",
              "          0.10935557,  0.13619518, -0.14125347],\n",
              "        [-0.08571774,  0.34927344, -0.4482634 ,  0.02096593,  0.11725634,\n",
              "         -0.13351214,  0.23947608, -0.3798711 ],\n",
              "        [ 0.2664156 , -0.3017922 ,  0.22034335,  0.29981887,  0.2983451 ,\n",
              "          0.518623  ,  0.34591317,  0.24017733],\n",
              "        [-0.5279658 , -0.07375529,  0.211882  ,  0.23441964,  0.4308927 ,\n",
              "         -0.4674754 ,  0.46018255, -0.3083349 ],\n",
              "        [ 0.01066673, -0.24791753, -0.3635575 , -0.06014377,  0.5210899 ,\n",
              "         -0.33532557, -0.5365529 , -0.15518323],\n",
              "        [ 0.49300086,  0.36106092,  0.11348695, -0.04841954, -0.05173787,\n",
              "         -0.11843807,  0.0121156 , -0.2354646 ],\n",
              "        [ 0.24851549,  0.10727912, -0.02123207, -0.26593515, -0.3458646 ,\n",
              "         -0.34168124, -0.48144722, -0.18414512],\n",
              "        [ 0.5018772 ,  0.32355303, -0.28502858, -0.28380734, -0.24196902,\n",
              "          0.2293967 ,  0.10368001, -0.11713648],\n",
              "        [-0.18951538, -0.07528993,  0.4043941 ,  0.04111803, -0.2448875 ,\n",
              "          0.4289688 , -0.16874483,  0.488747  ],\n",
              "        [-0.055004  ,  0.21877998,  0.05048478,  0.13915092,  0.00948066,\n",
              "         -0.18450513,  0.27702814, -0.43516877],\n",
              "        [ 0.38485247,  0.4589362 , -0.4448205 , -0.34768802,  0.33903766,\n",
              "         -0.31008095, -0.1262089 , -0.30108613]], dtype=float32),\n",
              " array([0., 0., 0., 0., 0., 0., 0., 0.], dtype=float32),\n",
              " array([[-0.36179644],\n",
              "        [-0.3676832 ],\n",
              "        [-0.22526276],\n",
              "        [-0.44551146],\n",
              "        [ 0.80335534],\n",
              "        [ 0.10202587],\n",
              "        [-0.64178735],\n",
              "        [ 0.3991518 ]], dtype=float32),\n",
              " array([0.], dtype=float32)]"
            ]
          },
          "metadata": {},
          "execution_count": 12
        }
      ]
    },
    {
      "cell_type": "markdown",
      "source": [
        "### Estimate the model"
      ],
      "metadata": {
        "id": "lTtnWt9QGt6E"
      }
    },
    {
      "cell_type": "code",
      "source": [
        "# if it is regression problem, you use mean squared error\n",
        "# if it is binary classification, use binary crossentroy\n",
        "# if it is multi-class classification, use categorical crossentropy\n",
        "\n",
        "model.compile(loss='binary_crossentropy', optimizer='adam', metrics=['accuracy'])\n",
        "model.fit(X_train, y_train,epochs=10, batch_size=1)"
      ],
      "metadata": {
        "colab": {
          "base_uri": "https://localhost:8080/"
        },
        "id": "iZ-r5MCjGqj2",
        "outputId": "5117bdfe-819f-4ef4-ea07-3eddc224a28c"
      },
      "execution_count": 13,
      "outputs": [
        {
          "output_type": "stream",
          "name": "stdout",
          "text": [
            "Epoch 1/10\n",
            "5197/5197 - 13s - loss: 0.0666 - accuracy: 0.9798 - 13s/epoch - 2ms/step\n",
            "Epoch 2/10\n",
            "5197/5197 - 8s - loss: 0.0218 - accuracy: 0.9960 - 8s/epoch - 2ms/step\n",
            "Epoch 3/10\n",
            "5197/5197 - 6s - loss: 0.0194 - accuracy: 0.9962 - 6s/epoch - 1ms/step\n",
            "Epoch 4/10\n",
            "5197/5197 - 6s - loss: 0.0173 - accuracy: 0.9965 - 6s/epoch - 1ms/step\n",
            "Epoch 5/10\n",
            "5197/5197 - 6s - loss: 0.0159 - accuracy: 0.9971 - 6s/epoch - 1ms/step\n",
            "Epoch 6/10\n",
            "5197/5197 - 6s - loss: 0.0157 - accuracy: 0.9967 - 6s/epoch - 1ms/step\n",
            "Epoch 7/10\n",
            "5197/5197 - 6s - loss: 0.0132 - accuracy: 0.9975 - 6s/epoch - 1ms/step\n",
            "Epoch 8/10\n",
            "5197/5197 - 9s - loss: 0.0139 - accuracy: 0.9969 - 9s/epoch - 2ms/step\n",
            "Epoch 9/10\n",
            "5197/5197 - 6s - loss: 0.0135 - accuracy: 0.9975 - 6s/epoch - 1ms/step\n",
            "Epoch 10/10\n",
            "5197/5197 - 6s - loss: 0.0136 - accuracy: 0.9971 - 6s/epoch - 1ms/step\n"
          ]
        },
        {
          "output_type": "execute_result",
          "data": {
            "text/plain": [
              "<keras.callbacks.History at 0x7f322bce1e50>"
            ]
          },
          "metadata": {},
          "execution_count": 13
        }
      ]
    },
    {
      "cell_type": "code",
      "source": [
        "y_pred= model.predict(X_test)"
      ],
      "metadata": {
        "id": "zVvyFCogG0sv"
      },
      "execution_count": 14,
      "outputs": []
    },
    {
      "cell_type": "code",
      "source": [
        "score = model.evaluate(X_test, y_test)\n",
        "print(score)"
      ],
      "metadata": {
        "id": "_fOlaYIPHMfb",
        "outputId": "acaa096a-e6ce-44fe-8f59-39d285a0391c",
        "colab": {
          "base_uri": "https://localhost:8080/"
        }
      },
      "execution_count": 15,
      "outputs": [
        {
          "output_type": "stream",
          "name": "stdout",
          "text": [
            "41/41 [==============================] - 0s 1ms/step - loss: 0.0250 - accuracy: 0.9954\n",
            "[0.025030339136719704, 0.9953846335411072]\n"
          ]
        }
      ]
    },
    {
      "cell_type": "markdown",
      "source": [
        "Image Classification example: https://colab.research.google.com/github/tensorflow/docs/blob/master/site/en/tutorials/images/classification.ipynb"
      ],
      "metadata": {
        "id": "8jPTqE-nIr0o"
      }
    },
    {
      "cell_type": "code",
      "source": [
        ""
      ],
      "metadata": {
        "id": "6K6zvK0NHM_G"
      },
      "execution_count": 15,
      "outputs": []
    }
  ]
}